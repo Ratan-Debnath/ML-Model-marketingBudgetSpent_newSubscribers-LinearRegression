{
  "nbformat": 4,
  "nbformat_minor": 0,
  "metadata": {
    "colab": {
      "name": "ML-MarketingBudget_NewSubscribersGained-LinearRegression-Model.ipynb",
      "provenance": []
    },
    "kernelspec": {
      "name": "python3",
      "display_name": "Python 3"
    }
  },
  "cells": [
    {
      "cell_type": "markdown",
      "metadata": {
        "id": "3Ne7qWq-tY3e",
        "colab_type": "text"
      },
      "source": [
        "Practice from @towards data science\n",
        "######\n",
        "Problem: Given the marketing budget spent (in thousands of dollars) by a media-services provider in the last 8 months along with the number of new subscribers (also in thousands) for the same time in the table given below:"
      ]
    },
    {
      "cell_type": "markdown",
      "metadata": {
        "id": "-zpDNhuHuL3L",
        "colab_type": "text"
      },
      "source": [
        "![alt text](https://miro.medium.com/max/486/1*xFC2yO9Tm6nWvOd4azTSFQ.png)"
      ]
    },
    {
      "cell_type": "markdown",
      "metadata": {
        "id": "rowST20avqUe",
        "colab_type": "text"
      },
      "source": [
        "Here, a trend or relationship between the amount spent and new subscribeers gained. As the amount is increasing, the number of new subscribers is also increasing.\n",
        "As follow the linear equation:  Subcribers gained = 2 * Amount Spent + 40  \n",
        "\n",
        "Find this relationship between the amount spent on marketing and the number of subscribers gained using Machine-Learning technique.\n"
      ]
    },
    {
      "cell_type": "markdown",
      "metadata": {
        "id": "10k13KVIxubC",
        "colab_type": "text"
      },
      "source": [
        "Machine Learning terminology:\n",
        "#Feature: Feature is input which is one column of the data in input set. here, marketing budget.\n",
        "#Label: Label is output which is final choice. here, number of new subscribers gained\n",
        "\n",
        "Model: A mathematical representation of a real-world process. In machine Learning a model is an artifact or entity which is created by using a class of algorithm and training it with Features and labels."
      ]
    },
    {
      "cell_type": "code",
      "metadata": {
        "id": "meD3rxvi1TQ-",
        "colab_type": "code",
        "colab": {}
      },
      "source": [
        "#imports require library\n",
        "import tensorflow as tf\n",
        "tf.logging.set_verbosity(tf.logging.ERROR)\n",
        "import numpy as np\n",
        "import matplotlib.pyplot as plt\n"
      ],
      "execution_count": 0,
      "outputs": []
    },
    {
      "cell_type": "code",
      "metadata": {
        "id": "O33XV8kA1Jl-",
        "colab_type": "code",
        "colab": {
          "base_uri": "https://localhost:8080/",
          "height": 153
        },
        "outputId": "24642893-e641-4a19-957b-3ddd18d0a781"
      },
      "source": [
        "#Generate/Import the set of Data-Points\n",
        "marketing_budget_data = np.array([60, 80, 100, 30, 50, 20, 90, 10], dtype = float)\n",
        "subscribers_gained_data = np.array([160, 200, 240, 100, 140, 80, 220, 60], dtype = float)\n",
        "for i,c in enumerate(marketing_budget_data):\n",
        "  print(\"Marketing Budget = {} , New Subscribers Gained = {}\".format(c, subscribers_gained_data[i]))\n"
      ],
      "execution_count": 36,
      "outputs": [
        {
          "output_type": "stream",
          "text": [
            "Marketing Budget = 60.0 , New Subscribers Gained = 160.0\n",
            "Marketing Budget = 80.0 , New Subscribers Gained = 200.0\n",
            "Marketing Budget = 100.0 , New Subscribers Gained = 240.0\n",
            "Marketing Budget = 30.0 , New Subscribers Gained = 100.0\n",
            "Marketing Budget = 50.0 , New Subscribers Gained = 140.0\n",
            "Marketing Budget = 20.0 , New Subscribers Gained = 80.0\n",
            "Marketing Budget = 90.0 , New Subscribers Gained = 220.0\n",
            "Marketing Budget = 10.0 , New Subscribers Gained = 60.0\n"
          ],
          "name": "stdout"
        }
      ]
    },
    {
      "cell_type": "code",
      "metadata": {
        "id": "IXdMdFuhHVIQ",
        "colab_type": "code",
        "colab": {
          "base_uri": "https://localhost:8080/",
          "height": 297
        },
        "outputId": "e57955e8-4e0e-47c8-a9c9-ac119150a907"
      },
      "source": [
        "#visualize the data using Matplotlib\n",
        "plt.scatter(marketing_budget_data, subscribers_gained_data)\n",
        "plt.xlim(0,120)\n",
        "plt.ylim(0,260)\n",
        "plt.xlabel(\"Marketing Budget (in thousand of Dollars)\")\n",
        "plt.ylabel(\"Subscribers Gained (in thousand of Dollars)\")\n",
        "plt.show\n"
      ],
      "execution_count": 37,
      "outputs": [
        {
          "output_type": "execute_result",
          "data": {
            "text/plain": [
              "<function matplotlib.pyplot.show>"
            ]
          },
          "metadata": {
            "tags": []
          },
          "execution_count": 37
        },
        {
          "output_type": "display_data",
          "data": {
            "image/png": "[encoded data removed]",
            "text/plain": [
              "<Figure size 432x288 with 1 Axes>"
            ]
          },
          "metadata": {
            "tags": []
          }
        }
      ]
    },
    {
      "cell_type": "markdown",
      "metadata": {
        "id": "3ABPoh4bKioP",
        "colab_type": "text"
      },
      "source": [
        "Principle assumption of Linear Regression: There must be a linear relationship between labels and Coefficients of the equation of line fitted.\n",
        "\n",
        "#Next step is to separate our data into training and testing Data. Training Data is used to train our model while testing data will be kept separately and later used for verifying the performance of our model by comparing the actual Label of our test data with label predicted by our model for test data."
      ]
    },
    {
      "cell_type": "code",
      "metadata": {
        "id": "851FlUu8Ku8I",
        "colab_type": "code",
        "colab": {}
      },
      "source": [
        "from sklearn.model_selection import train_test_split\n",
        "X_train, X_text, y_train, y_test = train_test_split(marketing_budget_data, subscribers_gained_data, random_state=42, train_size = 0.8, test_size = 0.2)"
      ],
      "execution_count": 0,
      "outputs": []
    },
    {
      "cell_type": "markdown",
      "metadata": {
        "id": "vBo30qOmM1FP",
        "colab_type": "text"
      },
      "source": [
        "The problem is straightforward, this network will require only a single layer, with a single neuron\n",
        "\n",
        "input_shape=[1]: This specifies that the input to this layer is a single value. That is, the shape is a one-dimensional array with one member. Since this is the first (and only) layer, the input shape is the input shape of the entire model. The single value is a floating-point number, representing marketing_budget.\n",
        "\n",
        "units=1: This specifies the number of neurons in the layer. The number of neurons defines how many internal variables the layer has to try to learn how to solve the problem. Since this is the final layer, it is also the size of the model’s output — a single float value representing new subscribers gained. (In a multi-layered network, the size and shape of the layer would need to match the `input_shape` of the next layer.)"
      ]
    },
    {
      "cell_type": "code",
      "metadata": {
        "id": "IZKhobFlND6n",
        "colab_type": "code",
        "colab": {}
      },
      "source": [
        "layer_0 = tf.keras.layers.Dense(units=1, input_shape=[1])\n",
        "#create model\n",
        "model = tf.keras.Sequential([layer_0])\n",
        "model = tf.keras.Sequential([tf.keras.layers.Dense(units=1, input_shape=[1])])\n"
      ],
      "execution_count": 0,
      "outputs": []
    },
    {
      "cell_type": "code",
      "metadata": {
        "id": "RqqF6VUmOkVu",
        "colab_type": "code",
        "colab": {}
      },
      "source": [
        "#Compile the model, with loss(measured difference) and optimizer(reduce the loss) functions\n",
        "model.compile(loss=\"mean_squared_error\", optimizer= tf.keras.optimizers.Adam(.01))"
      ],
      "execution_count": 0,
      "outputs": []
    },
    {
      "cell_type": "code",
      "metadata": {
        "id": "gEyr3kKIQZ3o",
        "colab_type": "code",
        "colab": {
          "base_uri": "https://localhost:8080/",
          "height": 34
        },
        "outputId": "b8247454-e7e6-4bc0-b7c3-a90a3508601c"
      },
      "source": [
        "#Train the model by calling the fit method\n",
        "#The epochs argument specifies how many times this cycle should be run, and the verbose argument controls how much output the method produces.\n",
        "trained_model = model.fit(X_train, y_train, epochs= 1000, verbose=False)\n",
        "print(\"Finished the training model\")"
      ],
      "execution_count": 41,
      "outputs": [
        {
          "output_type": "stream",
          "text": [
            "Finished the training model\n"
          ],
          "name": "stdout"
        }
      ]
    },
    {
      "cell_type": "code",
      "metadata": {
        "id": "E1J_ohwFUNyO",
        "colab_type": "code",
        "colab": {
          "base_uri": "https://localhost:8080/",
          "height": 296
        },
        "outputId": "bbfb1aa1-3dbf-4679-d31b-8d44faf36877"
      },
      "source": [
        "import matplotlib.pyplot as plt\n",
        "plt.xlabel(\"Epose Number\")\n",
        "plt.ylabel(\"Loss Magnitude\")\n",
        "plt.plot(trained_model.history[\"loss\"])"
      ],
      "execution_count": 43,
      "outputs": [
        {
          "output_type": "execute_result",
          "data": {
            "text/plain": [
              "[<matplotlib.lines.Line2D at 0x7fe3a3067dd8>]"
            ]
          },
          "metadata": {
            "tags": []
          },
          "execution_count": 43
        },
        {
          "output_type": "display_data",
          "data": {
            "image/png": "[encoded data removed]",
            "text/plain": [
              "<Figure size 432x288 with 1 Axes>"
            ]
          },
          "metadata": {
            "tags": []
          }
        }
      ]
    },
    {
      "cell_type": "code",
      "metadata": {
        "id": "FZqWFOO7VU0g",
        "colab_type": "code",
        "colab": {
          "base_uri": "https://localhost:8080/",
          "height": 136
        },
        "outputId": "c228e261-1923-4de1-9ad1-187622d8fab4"
      },
      "source": [
        "#used model to predict values\n",
        "print(model.predict([80.0]))\n",
        "#correct answer 80 * 2 + 40 = 200, so our model is doing really well value nearly 200 to 201\n",
        "print(model.predict([10.0]))\n",
        "print(model.predict([50.0]))\n",
        "print(model.predict([90.0]))\n",
        "print(model.predict([60.0]))\n",
        "print(model.predict([100.0]))\n",
        "print(model.predict([30.0]))"
      ],
      "execution_count": 44,
      "outputs": [
        {
          "output_type": "stream",
          "text": [
            "[[202.69849]]\n",
            "[[31.808052]]\n",
            "[[129.45973]]\n",
            "[[227.1114]]\n",
            "[[153.87265]]\n",
            "[[251.52432]]\n",
            "[[80.63389]]\n"
          ],
          "name": "stdout"
        }
      ]
    },
    {
      "cell_type": "code",
      "metadata": {
        "id": "GAu7Gpw6Vvoh",
        "colab_type": "code",
        "colab": {
          "base_uri": "https://localhost:8080/",
          "height": 51
        },
        "outputId": "3cc39739-7d15-482c-b64e-02f829eddc73"
      },
      "source": [
        "y_pred = model.predict(X_text)\n",
        "print(\"Actual Values\\t Predicted Values\")\n",
        "print(y_test,\" \",y_pred.reshape(1,-1))"
      ],
      "execution_count": 55,
      "outputs": [
        {
          "output_type": "stream",
          "text": [
            "Actual Values\t Predicted Values\n",
            "[200.  80.]   [[202.69849  56.22097]]\n"
          ],
          "name": "stdout"
        }
      ]
    },
    {
      "cell_type": "code",
      "metadata": {
        "id": "IP_YFlSwXT9H",
        "colab_type": "code",
        "colab": {
          "base_uri": "https://localhost:8080/",
          "height": 34
        },
        "outputId": "34603249-bb00-4e80-a467-cfe04bf0e035"
      },
      "source": [
        "#Verifying the Model accuracy using Performance Metric\n",
        "from sklearn.metrics import r2_score\n",
        "r2_score(y_test,y_pred)     #r-squared value"
      ],
      "execution_count": 56,
      "outputs": [
        {
          "output_type": "execute_result",
          "data": {
            "text/plain": [
              "0.9204549876542862"
            ]
          },
          "metadata": {
            "tags": []
          },
          "execution_count": 56
        }
      ]
    },
    {
      "cell_type": "code",
      "metadata": {
        "id": "TD9gEc8HYX4R",
        "colab_type": "code",
        "colab": {
          "base_uri": "https://localhost:8080/",
          "height": 51
        },
        "outputId": "7650af98-8a1a-47c8-9e90-7b21daedf48e"
      },
      "source": [
        "#if we create a new model with 3 more Dense layers with different units\n",
        "l_0 = tf.keras.layers.Dense(units=4, input_shape=[1])\n",
        "l_1 = tf.keras.layers.Dense(units=5)\n",
        "l_2 = tf.keras.layers.Dense(units=1) \n",
        "model = tf.keras.Sequential([l_0, l_1, l_2])\n",
        "model.compile(loss='mean_squared_error', optimizer=tf.keras.optimizers.Adam(0.1))\n",
        "model.fit(X_train,y_train, epochs=2000,verbose=False)\n",
        "print('\\n Finished training Model')"
      ],
      "execution_count": 57,
      "outputs": [
        {
          "output_type": "stream",
          "text": [
            "\n",
            " Finished training Model\n"
          ],
          "name": "stdout"
        }
      ]
    },
    {
      "cell_type": "code",
      "metadata": {
        "id": "ZoHgjn60aj4M",
        "colab_type": "code",
        "colab": {
          "base_uri": "https://localhost:8080/",
          "height": 51
        },
        "outputId": "82a0396d-4d5c-430b-a20a-f9c7687e2fb1"
      },
      "source": [
        "print(model.predict([80]))\n",
        "y_pred= model.predict(X_text)\n",
        "print(r2_score(y_test, y_pred))"
      ],
      "execution_count": 65,
      "outputs": [
        {
          "output_type": "stream",
          "text": [
            "[[200.]]\n",
            "1.0\n"
          ],
          "name": "stdout"
        }
      ]
    },
    {
      "cell_type": "code",
      "metadata": {
        "id": "t58MbKuiauFs",
        "colab_type": "code",
        "colab": {}
      },
      "source": [
        ""
      ],
      "execution_count": 0,
      "outputs": []
    }
  ]
}